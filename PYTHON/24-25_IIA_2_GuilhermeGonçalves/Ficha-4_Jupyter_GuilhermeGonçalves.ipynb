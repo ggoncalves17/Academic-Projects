{
 "cells": [
  {
   "cell_type": "code",
   "execution_count": 2,
   "id": "573a6d2a-0b81-478d-a7b7-5b037b0312e8",
   "metadata": {},
   "outputs": [],
   "source": [
    "import pandas as pd\n",
    "import matplotlib.pyplot as plt\n",
    "import seaborn as sns\n",
    "import numpy as np\n",
    "from scipy.stats import stats"
   ]
  },
  {
   "cell_type": "code",
   "execution_count": null,
   "id": "5ae78017-b445-40b2-87d2-0a419c354b7d",
   "metadata": {},
   "outputs": [],
   "source": [
    "# AQUISIÇÃO DE DADOS\n",
    "\n",
    "#Ler o conteúdo do dataset\n",
    "df = pd.read_csv(\"./dataset.csv\")"
   ]
  },
  {
   "cell_type": "code",
   "execution_count": 4,
   "id": "c6814334-50e5-4022-9506-832d7df63968",
   "metadata": {},
   "outputs": [
    {
     "name": "stdout",
     "output_type": "stream",
     "text": [
      "As primeiras 15 linhas do dataset:\n",
      "       id  gender   age  hypertension  heart_disease ever_married  \\\n",
      "0    9046    Male  67.0             0              1          Yes   \n",
      "1   51676  Female  61.0             0              0          Yes   \n",
      "2   31112    Male  80.0             0              1          Yes   \n",
      "3   60182  Female  49.0             0              0          Yes   \n",
      "4    1665  Female  79.0             1              0          Yes   \n",
      "5   56669    Male  81.0             0              0          Yes   \n",
      "6   53882    Male  74.0             1              1          Yes   \n",
      "7   10434  Female  69.0             0              0           No   \n",
      "8   27419  Female  59.0             0              0          Yes   \n",
      "9   60491  Female  78.0             0              0          Yes   \n",
      "10  12109  Female  81.0             1              0          Yes   \n",
      "11  12095  Female  61.0             0              1          Yes   \n",
      "12  12175  Female  54.0             0              0          Yes   \n",
      "13   8213    Male  78.0             0              1          Yes   \n",
      "14   5317  Female  79.0             0              1          Yes   \n",
      "\n",
      "        work_type Residence_type  avg_glucose_level   bmi   smoking_status  \\\n",
      "0         Private          Urban             228.69  36.6  formerly smoked   \n",
      "1   Self-employed          Rural             202.21   NaN     never smoked   \n",
      "2         Private          Rural             105.92  32.5     never smoked   \n",
      "3         Private          Urban             171.23  34.4           smokes   \n",
      "4   Self-employed          Rural             174.12  24.0     never smoked   \n",
      "5         Private          Urban             186.21  29.0  formerly smoked   \n",
      "6         Private          Rural              70.09  27.4     never smoked   \n",
      "7         Private          Urban              94.39  22.8     never smoked   \n",
      "8         Private          Rural              76.15   NaN          Unknown   \n",
      "9         Private          Urban              58.57  24.2          Unknown   \n",
      "10        Private          Rural              80.43  29.7     never smoked   \n",
      "11       Govt_job          Rural             120.46  36.8           smokes   \n",
      "12        Private          Urban             104.51  27.3           smokes   \n",
      "13        Private          Urban             219.84   NaN          Unknown   \n",
      "14        Private          Urban             214.09  28.2     never smoked   \n",
      "\n",
      "    stroke  \n",
      "0        1  \n",
      "1        1  \n",
      "2        1  \n",
      "3        1  \n",
      "4        1  \n",
      "5        1  \n",
      "6        1  \n",
      "7        1  \n",
      "8        1  \n",
      "9        1  \n",
      "10       1  \n",
      "11       1  \n",
      "12       1  \n",
      "13       1  \n",
      "14       1  \n"
     ]
    }
   ],
   "source": [
    "#Visualize as 15 primeiras linhas\n",
    "print(\"As primeiras 15 linhas do dataset:\")\n",
    "print(df.head(15))"
   ]
  },
  {
   "cell_type": "code",
   "execution_count": 5,
   "id": "4c5409bb-2154-4226-bce9-15e74b3a24d3",
   "metadata": {},
   "outputs": [
    {
     "name": "stdout",
     "output_type": "stream",
     "text": [
      "Dimensões do dataframe (linhas, colunas):\n",
      "(5110, 12)\n"
     ]
    }
   ],
   "source": [
    "#Obtenha a dimensão do dataframe\n",
    "print(\"Dimensões do dataframe (linhas, colunas):\")\n",
    "print(df.shape)"
   ]
  },
  {
   "cell_type": "code",
   "execution_count": 6,
   "id": "ad1d9d7a-25b9-4228-8775-db5b243dc0b4",
   "metadata": {},
   "outputs": [
    {
     "name": "stdout",
     "output_type": "stream",
     "text": [
      "0    9046    Male  67.0  0  1  Yes        Private  Urban  228.69  36.6  \\\n",
      "1   51676  Female  61.0  0  0  Yes  Self-employed  Rural  202.21   NaN   \n",
      "2   31112    Male  80.0  0  1  Yes        Private  Rural  105.92  32.5   \n",
      "3   60182  Female  49.0  0  0  Yes        Private  Urban  171.23  34.4   \n",
      "4    1665  Female  79.0  1  0  Yes  Self-employed  Rural  174.12  24.0   \n",
      "5   56669    Male  81.0  0  0  Yes        Private  Urban  186.21  29.0   \n",
      "6   53882    Male  74.0  1  1  Yes        Private  Rural   70.09  27.4   \n",
      "7   10434  Female  69.0  0  0   No        Private  Urban   94.39  22.8   \n",
      "8   27419  Female  59.0  0  0  Yes        Private  Rural   76.15   NaN   \n",
      "9   60491  Female  78.0  0  0  Yes        Private  Urban   58.57  24.2   \n",
      "10  12109  Female  81.0  1  0  Yes        Private  Rural   80.43  29.7   \n",
      "11  12095  Female  61.0  0  1  Yes       Govt_job  Rural  120.46  36.8   \n",
      "12  12175  Female  54.0  0  0  Yes        Private  Urban  104.51  27.3   \n",
      "13   8213    Male  78.0  0  1  Yes        Private  Urban  219.84   NaN   \n",
      "14   5317  Female  79.0  0  1  Yes        Private  Urban  214.09  28.2   \n",
      "15  58202  Female  50.0  1  0  Yes  Self-employed  Rural  167.41  30.9   \n",
      "\n",
      "0   formerly smoked  1  \n",
      "1      never smoked  1  \n",
      "2      never smoked  1  \n",
      "3            smokes  1  \n",
      "4      never smoked  1  \n",
      "5   formerly smoked  1  \n",
      "6      never smoked  1  \n",
      "7      never smoked  1  \n",
      "8           Unknown  1  \n",
      "9           Unknown  1  \n",
      "10     never smoked  1  \n",
      "11           smokes  1  \n",
      "12           smokes  1  \n",
      "13          Unknown  1  \n",
      "14     never smoked  1  \n",
      "15     never smoked  1  \n"
     ]
    }
   ],
   "source": [
    "#Remova a primeira linha do dataframe se esta contiver os headers\n",
    "df.columns = df.iloc[0]  \n",
    "df.drop(0, inplace=True) \n",
    "print(df.head(15))"
   ]
  },
  {
   "cell_type": "code",
   "execution_count": 7,
   "id": "559f7925-826c-4697-b687-da6ca7e2458d",
   "metadata": {},
   "outputs": [
    {
     "name": "stdout",
     "output_type": "stream",
     "text": [
      "      id  gender   age  hypertension  heart_disease ever_married  \\\n",
      "1  51676  Female  61.0             0              0          Yes   \n",
      "2  31112    Male  80.0             0              1          Yes   \n",
      "3  60182  Female  49.0             0              0          Yes   \n",
      "\n",
      "       work_type Residence_type  avg_glucose_level   bmi smoking_status  \\\n",
      "1  Self-employed          Rural             202.21   NaN   never smoked   \n",
      "2        Private          Rural             105.92  32.5   never smoked   \n",
      "3        Private          Urban             171.23  34.4         smokes   \n",
      "\n",
      "   stroke  \n",
      "1       1  \n",
      "2       1  \n",
      "3       1  \n"
     ]
    }
   ],
   "source": [
    "#Adicione os mesmos headers que retirou anteriormente ao dataframe\n",
    "headers = [\"id\", \"gender\", \"age\", \"hypertension\", \"heart_disease\", \"ever_married\",\"work_type\", \"Residence_type\", \"avg_glucose_level\", \"bmi\", \"smoking_status\", \"stroke\"]\n",
    "df.columns = headers\n",
    "print(df.head(3))"
   ]
  },
  {
   "cell_type": "code",
   "execution_count": 8,
   "id": "7a9e3885-3d34-44c9-b03e-0f2ebbcfa2c8",
   "metadata": {},
   "outputs": [
    {
     "name": "stdout",
     "output_type": "stream",
     "text": [
      "Nome das colunas:\n",
      "Index(['id', 'gender', 'age', 'hypertension', 'heart_disease', 'ever_married',\n",
      "       'work_type', 'Residence_type', 'avg_glucose_level', 'bmi',\n",
      "       'smoking_status', 'stroke'],\n",
      "      dtype='object')\n"
     ]
    }
   ],
   "source": [
    "#Apresente o nome das colunas\n",
    "print(\"Nome das colunas:\")\n",
    "print(df.columns)"
   ]
  },
  {
   "cell_type": "code",
   "execution_count": 9,
   "id": "97cd8bc1-e04b-4460-b1bd-e94d8e6f30e9",
   "metadata": {},
   "outputs": [
    {
     "name": "stdout",
     "output_type": "stream",
     "text": [
      "Coluna renomeada:\n",
      "Index(['id', 'gender', 'idade', 'hypertension', 'heart_disease',\n",
      "       'ever_married', 'work_type', 'Residence_type', 'avg_glucose_level',\n",
      "       'bmi', 'smoking_status', 'stroke'],\n",
      "      dtype='object')\n"
     ]
    }
   ],
   "source": [
    "#Renomeie uma das colunas (à escolha) para um nome mais sugestivo\n",
    "df.rename(columns={'age': 'idade'}, inplace=True)\n",
    "print(\"Coluna renomeada:\")\n",
    "print(df.columns)"
   ]
  },
  {
   "cell_type": "code",
   "execution_count": 10,
   "id": "a6506206-0348-41c0-834a-10e09bfd0663",
   "metadata": {},
   "outputs": [
    {
     "name": "stdout",
     "output_type": "stream",
     "text": [
      "           id  gender  idade  hypertension  heart_disease ever_married  \\\n",
      "Indice                                                                   \n",
      "1       51676  Female   61.0             0              0          Yes   \n",
      "2       31112    Male   80.0             0              1          Yes   \n",
      "3       60182  Female   49.0             0              0          Yes   \n",
      "4        1665  Female   79.0             1              0          Yes   \n",
      "5       56669    Male   81.0             0              0          Yes   \n",
      "\n",
      "            work_type Residence_type  avg_glucose_level   bmi  \\\n",
      "Indice                                                          \n",
      "1       Self-employed          Rural             202.21   NaN   \n",
      "2             Private          Rural             105.92  32.5   \n",
      "3             Private          Urban             171.23  34.4   \n",
      "4       Self-employed          Rural             174.12  24.0   \n",
      "5             Private          Urban             186.21  29.0   \n",
      "\n",
      "         smoking_status  stroke  \n",
      "Indice                           \n",
      "1          never smoked       1  \n",
      "2          never smoked       1  \n",
      "3                smokes       1  \n",
      "4          never smoked       1  \n",
      "5       formerly smoked       1  \n"
     ]
    }
   ],
   "source": [
    "\n",
    "#Renomeia a primeira coluna para \"Indice\" (caso esta coluna se trate de um índice)\n",
    "df.index.name = 'Indice'\n",
    "print(df.head())"
   ]
  },
  {
   "cell_type": "code",
   "execution_count": 11,
   "id": "f753e9c2-b974-4373-81db-fc80bb6bd276",
   "metadata": {},
   "outputs": [
    {
     "name": "stdout",
     "output_type": "stream",
     "text": [
      "Sumário estatístico de todas as colunas:\n",
      "                  id  gender        idade  hypertension  heart_disease  \\\n",
      "count    5109.000000    5109  5109.000000   5109.000000    5109.000000   \n",
      "unique           NaN       3          NaN           NaN            NaN   \n",
      "top              NaN  Female          NaN           NaN            NaN   \n",
      "freq             NaN    2994          NaN           NaN            NaN   \n",
      "mean    36523.206498     NaN    43.221961      0.097475       0.053827   \n",
      "std     21160.301376     NaN    22.612413      0.296633       0.225697   \n",
      "min        67.000000     NaN     0.080000      0.000000       0.000000   \n",
      "25%     17745.000000     NaN    25.000000      0.000000       0.000000   \n",
      "50%     36942.000000     NaN    45.000000      0.000000       0.000000   \n",
      "75%     54695.000000     NaN    61.000000      0.000000       0.000000   \n",
      "max     72940.000000     NaN    82.000000      1.000000       1.000000   \n",
      "\n",
      "       ever_married work_type Residence_type  avg_glucose_level          bmi  \\\n",
      "count          5109      5109           5109        5109.000000  4908.000000   \n",
      "unique            2         5              2                NaN          NaN   \n",
      "top             Yes   Private          Urban                NaN          NaN   \n",
      "freq           3352      2924           2595                NaN          NaN   \n",
      "mean            NaN       NaN            NaN         106.123692    28.891667   \n",
      "std             NaN       NaN            NaN          45.255518     7.854096   \n",
      "min             NaN       NaN            NaN          55.120000    10.300000   \n",
      "25%             NaN       NaN            NaN          77.240000    23.500000   \n",
      "50%             NaN       NaN            NaN          91.880000    28.050000   \n",
      "75%             NaN       NaN            NaN         114.090000    33.100000   \n",
      "max             NaN       NaN            NaN         271.740000    97.600000   \n",
      "\n",
      "       smoking_status       stroke  \n",
      "count            5109  5109.000000  \n",
      "unique              4          NaN  \n",
      "top      never smoked          NaN  \n",
      "freq             1892          NaN  \n",
      "mean              NaN     0.048542  \n",
      "std               NaN     0.214929  \n",
      "min               NaN     0.000000  \n",
      "25%               NaN     0.000000  \n",
      "50%               NaN     0.000000  \n",
      "75%               NaN     0.000000  \n",
      "max               NaN     1.000000  \n"
     ]
    }
   ],
   "source": [
    "# ESTATÍSTICA DESCRITIVA\n",
    "#Obtenha um sumário da estatística descritiva para cada coluna (média, desvio padrão, quartis), incluindo as colunas do tipo \"object\"\n",
    "print(\"Sumário estatístico de todas as colunas:\")\n",
    "print(df.describe(include=\"all\"))"
   ]
  },
  {
   "cell_type": "code",
   "execution_count": 12,
   "id": "c71b9960-acd1-441c-8c21-c717f0ea6b2d",
   "metadata": {},
   "outputs": [
    {
     "name": "stdout",
     "output_type": "stream",
     "text": [
      "Sumário estatístico para variáveis categóricas:\n",
      "        gender ever_married work_type Residence_type smoking_status\n",
      "count     5109         5109      5109           5109           5109\n",
      "unique       3            2         5              2              4\n",
      "top     Female          Yes   Private          Urban   never smoked\n",
      "freq      2994         3352      2924           2595           1892\n"
     ]
    }
   ],
   "source": [
    "#Obtenha um sumário da estatística descritiva somente para variáveis categóricas\n",
    "print(\"Sumário estatístico para variáveis categóricas:\")\n",
    "print(df.describe(include=['object']))"
   ]
  },
  {
   "cell_type": "code",
   "execution_count": 13,
   "id": "05bc3586-8f75-4a81-9a1d-293de5df5de7",
   "metadata": {},
   "outputs": [
    {
     "name": "stdout",
     "output_type": "stream",
     "text": [
      "Sumário estatístico para a coluna:\n",
      "             idade          bmi\n",
      "count  5109.000000  4908.000000\n",
      "mean     43.221961    28.891667\n",
      "std      22.612413     7.854096\n",
      "min       0.080000    10.300000\n",
      "25%      25.000000    23.500000\n",
      "50%      45.000000    28.050000\n",
      "75%      61.000000    33.100000\n",
      "max      82.000000    97.600000\n"
     ]
    }
   ],
   "source": [
    "#Obtenha um sumário da estatística descritiva somente para uma coluna (à escolha), respeitante a uma variável de escala\n",
    "print(\"Sumário estatístico para a coluna:\")\n",
    "print(df[['idade', 'bmi']].describe())"
   ]
  },
  {
   "cell_type": "code",
   "execution_count": 14,
   "id": "84ac4e5a-3cf5-4b63-ae8b-01f326ab8ed1",
   "metadata": {},
   "outputs": [
    {
     "name": "stdout",
     "output_type": "stream",
     "text": [
      "Máximo:\n",
      "82.0\n",
      "Mínimo:\n",
      "0.08\n"
     ]
    }
   ],
   "source": [
    "#Obtenha os valores máximos e mínimos da coluna anterior\n",
    "print(\"Máximo:\")\n",
    "print(df['idade'].max())\n",
    "print(\"Mínimo:\")\n",
    "print(df['idade'].min())"
   ]
  },
  {
   "cell_type": "code",
   "execution_count": 15,
   "id": "6ecabb6f-5211-4b81-bc6a-fe3bbb0b0cf7",
   "metadata": {},
   "outputs": [
    {
     "name": "stdout",
     "output_type": "stream",
     "text": [
      "work_type\n",
      "Private          2924\n",
      "Self-employed     819\n",
      "children          687\n",
      "Govt_job          657\n",
      "Never_worked       22\n",
      "Name: count, dtype: int64\n"
     ]
    }
   ],
   "source": [
    "#Apresente a frequência de cada um dos valores possíveis de uma coluna (à escolha), respeitante a uma variável categórica\n",
    "print(df['work_type'].value_counts() )"
   ]
  },
  {
   "cell_type": "code",
   "execution_count": 16,
   "id": "96f8a5ed-8a8f-4135-8ead-a59b10171120",
   "metadata": {},
   "outputs": [
    {
     "name": "stdout",
     "output_type": "stream",
     "text": [
      "               count\n",
      "work_type           \n",
      "Private         2924\n",
      "Self-employed    819\n",
      "children         687\n",
      "Govt_job         657\n",
      "Never_worked      22\n"
     ]
    }
   ],
   "source": [
    "#Crie uma dataframe contendo cada um dos valores possíveis da coluna da alínea anterior\n",
    "print(df['work_type'].value_counts().to_frame())"
   ]
  },
  {
   "cell_type": "code",
   "execution_count": 17,
   "id": "b4795798-19d2-4a3c-a12e-38e4af2c73be",
   "metadata": {},
   "outputs": [
    {
     "data": {
      "image/png": "[encoded data removed]",
      "text/plain": [
       "<Figure size 640x480 with 1 Axes>"
      ]
     },
     "metadata": {},
     "output_type": "display_data"
    }
   ],
   "source": [
    "#Apresente graficamente o histograma de uma coluna à escolha\n",
    "plt.hist(df[\"work_type\"]) \n",
    "plt.xlabel(\"work_type\") \n",
    "plt.ylabel(\"count\") \n",
    "plt.title(\"Histogram\")  \n",
    "plt.show()"
   ]
  },
  {
   "cell_type": "code",
   "execution_count": 18,
   "id": "203506cc-a450-429b-a7c9-f2f9b6f8708f",
   "metadata": {},
   "outputs": [
    {
     "name": "stdout",
     "output_type": "stream",
     "text": [
      "['never smoked' 'smokes' 'formerly smoked' 'Unknown']\n"
     ]
    }
   ],
   "source": [
    "#Apresente as categorias existentes numa coluna (à escolha), respeitante a uma variável categórica\n",
    "print(df['smoking_status'].unique())"
   ]
  },
  {
   "cell_type": "code",
   "execution_count": 19,
   "id": "095c9eab-66f1-4698-b0e2-8de2b7494b84",
   "metadata": {},
   "outputs": [
    {
     "data": {
      "image/png": "[encoded data removed]",
      "text/plain": [
       "<Figure size 640x480 with 1 Axes>"
      ]
     },
     "metadata": {},
     "output_type": "display_data"
    }
   ],
   "source": [
    "#Apresente em caixa de bigodes (boxplot) a relação entre duas colunas (à escolha), uma respeitante a uma variável categórica, e outra respeitante a uma variável de escala\n",
    "sns.boxplot(x='smoking_status', y='bmi', data=df)\n",
    "plt.show()"
   ]
  },
  {
   "cell_type": "code",
   "execution_count": 20,
   "id": "3d1caf89-201d-4c70-9c41-f31aff85a55e",
   "metadata": {},
   "outputs": [
    {
     "name": "stdout",
     "output_type": "stream",
     "text": [
      "        idade\n",
      "Indice       \n",
      "1        61.0\n",
      "2         NaN\n",
      "3        49.0\n",
      "4        79.0\n",
      "5        81.0\n"
     ]
    }
   ],
   "source": [
    "#Missing Values\n",
    "#Substitua numa coluna (à escolha) respeitante a uma variável de escala, um determinado valor (à escolha) por NaN\n",
    "df['idade'] = df['idade'].replace(80, np.nan)\n",
    "print(df['idade'].head().to_frame())"
   ]
  },
  {
   "cell_type": "code",
   "execution_count": 21,
   "id": "da598938-68a7-4e34-af2f-a7480f74b632",
   "metadata": {},
   "outputs": [
    {
     "name": "stdout",
     "output_type": "stream",
     "text": [
      "Contagem de valores em falta por coluna:\n",
      "bmi\n",
      "False    4908\n",
      "True      201\n",
      "Name: count, dtype: int64\n"
     ]
    }
   ],
   "source": [
    "#Obtenha o número de \"missing values\" presentes na coluna em causa\n",
    "print(\"Contagem de valores em falta por coluna:\")\n",
    "missing_data=df.isnull()  \n",
    "print (missing_data['bmi'].value_counts())"
   ]
  },
  {
   "cell_type": "code",
   "execution_count": 22,
   "id": "11b49bd7-0c02-443e-a9e3-28def90c1147",
   "metadata": {},
   "outputs": [
    {
     "name": "stdout",
     "output_type": "stream",
     "text": [
      "              bmi\n",
      "Indice           \n",
      "1       28.891667\n",
      "2       32.500000\n",
      "3       34.400000\n",
      "4       24.000000\n",
      "5       29.000000\n",
      "6       27.400000\n",
      "7       22.800000\n",
      "8       28.891667\n",
      "9       24.200000\n",
      "10      29.700000\n",
      "11      36.800000\n",
      "12      27.300000\n",
      "13      28.891667\n",
      "14      28.200000\n",
      "15      30.900000\n",
      "16      37.500000\n",
      "17      25.800000\n",
      "18      37.800000\n",
      "19      28.891667\n",
      "20      22.400000\n"
     ]
    }
   ],
   "source": [
    "#Substitua os “missing values” presentes na coluna em causa, pela média da mesma\n",
    "avg_norm_loss = df['bmi'].astype(\"float\").mean(axis=0)\n",
    "df['bmi'] = df['bmi'].replace(np.nan, avg_norm_loss)\n",
    "print(df['bmi'].head(20).to_frame())"
   ]
  },
  {
   "cell_type": "code",
   "execution_count": 23,
   "id": "3bdbc383-7740-4e86-8044-bced5ef3bf5c",
   "metadata": {},
   "outputs": [
    {
     "name": "stdout",
     "output_type": "stream",
     "text": [
      "          bmi\n",
      "0   28.891667\n",
      "1   32.500000\n",
      "2   34.400000\n",
      "3   24.000000\n",
      "4   29.000000\n",
      "5   27.400000\n",
      "6   22.800000\n",
      "7   28.891667\n",
      "8   24.200000\n",
      "9   29.700000\n",
      "10  36.800000\n",
      "11  27.300000\n",
      "12  28.891667\n",
      "13  28.200000\n",
      "14  30.900000\n",
      "15  37.500000\n",
      "16  25.800000\n",
      "17  37.800000\n",
      "18  28.891667\n",
      "19  22.400000\n"
     ]
    }
   ],
   "source": [
    "#Elimine os “missing values” da coluna em causa\n",
    "df.dropna(subset=[\"bmi\"], axis=0, inplace=True) \n",
    "df.reset_index(drop=True, inplace=True) \n",
    "print(df['bmi'].head(20).to_frame())"
   ]
  },
  {
   "cell_type": "code",
   "execution_count": 24,
   "id": "483835f6-abb4-405b-a329-4bfd667083e1",
   "metadata": {},
   "outputs": [
    {
     "name": "stdout",
     "output_type": "stream",
     "text": [
      "<class 'pandas.core.frame.DataFrame'>\n",
      "RangeIndex: 5109 entries, 0 to 5108\n",
      "Data columns (total 12 columns):\n",
      " #   Column             Non-Null Count  Dtype  \n",
      "---  ------             --------------  -----  \n",
      " 0   id                 5109 non-null   int64  \n",
      " 1   gender             5109 non-null   object \n",
      " 2   idade              5039 non-null   float64\n",
      " 3   hypertension       5109 non-null   int64  \n",
      " 4   heart_disease      5109 non-null   int64  \n",
      " 5   ever_married       5109 non-null   object \n",
      " 6   work_type          5109 non-null   object \n",
      " 7   Residence_type     5109 non-null   object \n",
      " 8   avg_glucose_level  5109 non-null   float64\n",
      " 9   bmi                5109 non-null   float64\n",
      " 10  smoking_status     5109 non-null   object \n",
      " 11  stroke             5109 non-null   int64  \n",
      "dtypes: float64(3), int64(4), object(5)\n",
      "memory usage: 479.1+ KB\n"
     ]
    },
    {
     "data": {
      "text/plain": [
       "(id                     int64\n",
       " gender                object\n",
       " idade                float64\n",
       " hypertension           int64\n",
       " heart_disease          int64\n",
       " ever_married          object\n",
       " work_type             object\n",
       " Residence_type        object\n",
       " avg_glucose_level    float64\n",
       " bmi                  float64\n",
       " smoking_status        object\n",
       " stroke                 int64\n",
       " dtype: object,\n",
       " None)"
      ]
     },
     "execution_count": 24,
     "metadata": {},
     "output_type": "execute_result"
    }
   ],
   "source": [
    "#Normalização\n",
    "#Obtenha o tipo de dados de cada coluna\n",
    "df.dtypes, df.info() "
   ]
  },
  {
   "cell_type": "code",
   "execution_count": 25,
   "id": "e0e1a17b-73bc-4430-8817-3b3e0587a828",
   "metadata": {},
   "outputs": [
    {
     "name": "stdout",
     "output_type": "stream",
     "text": [
      "<class 'pandas.core.frame.DataFrame'>\n",
      "RangeIndex: 5109 entries, 0 to 5108\n",
      "Data columns (total 12 columns):\n",
      " #   Column             Non-Null Count  Dtype  \n",
      "---  ------             --------------  -----  \n",
      " 0   id                 5109 non-null   int64  \n",
      " 1   gender             5109 non-null   object \n",
      " 2   idade              5039 non-null   float64\n",
      " 3   hypertension       5109 non-null   float64\n",
      " 4   heart_disease      5109 non-null   int64  \n",
      " 5   ever_married       5109 non-null   object \n",
      " 6   work_type          5109 non-null   object \n",
      " 7   Residence_type     5109 non-null   object \n",
      " 8   avg_glucose_level  5109 non-null   float64\n",
      " 9   bmi                5109 non-null   float64\n",
      " 10  smoking_status     5109 non-null   object \n",
      " 11  stroke             5109 non-null   float64\n",
      "dtypes: float64(5), int64(2), object(5)\n",
      "memory usage: 479.1+ KB\n"
     ]
    },
    {
     "data": {
      "text/plain": [
       "(id                     int64\n",
       " gender                object\n",
       " idade                float64\n",
       " hypertension         float64\n",
       " heart_disease          int64\n",
       " ever_married          object\n",
       " work_type             object\n",
       " Residence_type        object\n",
       " avg_glucose_level    float64\n",
       " bmi                  float64\n",
       " smoking_status        object\n",
       " stroke               float64\n",
       " dtype: object,\n",
       " None)"
      ]
     },
     "execution_count": 25,
     "metadata": {},
     "output_type": "execute_result"
    }
   ],
   "source": [
    "#Converta, se necessário, os tipos das colunas para o formato adequado\n",
    "df[[\"hypertension\", \"stroke\"]] = df[[\"hypertension\", \"stroke\"]].astype(\"float64\")\n",
    "df.dtypes, df.info() "
   ]
  },
  {
   "cell_type": "code",
   "execution_count": 26,
   "id": "a4bd199a-d021-488d-84b3-8ddb8de2abdf",
   "metadata": {},
   "outputs": [
    {
     "name": "stdout",
     "output_type": "stream",
     "text": [
      "   idade     age_r\n",
      "0   61.0  0.743902\n",
      "1    NaN       NaN\n",
      "2   49.0  0.597561\n",
      "3   79.0  0.963415\n",
      "4   81.0  0.987805\n"
     ]
    }
   ],
   "source": [
    "#Normalize uma coluna (à escolha), respeitante a uma variável de escala, através da criação de uma nova coluna que resulte da primeira, mas cujos valores variem entre 0 e 1\n",
    "df['age_r'] = df['idade']/df['idade'].max()\n",
    "print(df[['idade','age_r']].head())"
   ]
  },
  {
   "cell_type": "code",
   "execution_count": 27,
   "id": "fbc4dab0-f551-4e7a-abd5-b00b87dcfff5",
   "metadata": {},
   "outputs": [
    {
     "name": "stdout",
     "output_type": "stream",
     "text": [
      "            bmi  bmi_r\n",
      "5104  28.891667  Baixo\n",
      "5105  40.000000  Médio\n",
      "5106  30.600000  Baixo\n",
      "5107  25.600000  Baixo\n",
      "5108  26.200000  Baixo\n"
     ]
    }
   ],
   "source": [
    "#Binning\n",
    "#Crie uma nova coluna que resulte da divisão de uma coluna (à escolha), respeitante a uma variável de escala, em três categorias \"Baixa\", \"Media\", \"Elevada\".  Os pontos de corte são à escolha\n",
    "bins = np.linspace(min(df[\"bmi\"]), max(df[\"bmi\"]), 4) \n",
    "group_names = ['Baixo', 'Médio', 'Elevado'] \n",
    "df['bmi_r'] = pd.cut(df['bmi'], bins, labels=group_names, include_lowest=True)  \n",
    "print(df[['bmi','bmi_r']].tail())"
   ]
  },
  {
   "cell_type": "code",
   "execution_count": 28,
   "id": "706ab02d-c05c-4749-a7a6-76c153977931",
   "metadata": {},
   "outputs": [
    {
     "name": "stdout",
     "output_type": "stream",
     "text": [
      "         bmi  bmi_r\n",
      "0  28.891667  Baixo\n",
      "1  32.500000  Baixo\n",
      "2  34.400000  Baixo\n",
      "3  24.000000  Baixo\n",
      "4  29.000000  Baixo\n"
     ]
    }
   ],
   "source": [
    "#Compare a nova coluna com aquela que lhe deu origem mostrando simultaneamente as primeiras 5 linhas de cada uma\n",
    "print(df[['bmi','bmi_r']].head(5))  "
   ]
  },
  {
   "cell_type": "code",
   "execution_count": 29,
   "id": "dec1b50f-d80e-48fe-a44a-33399b5f4753",
   "metadata": {},
   "outputs": [
    {
     "data": {
      "image/png": "[encoded data removed]",
      "text/plain": [
       "<Figure size 640x480 with 1 Axes>"
      ]
     },
     "metadata": {},
     "output_type": "display_data"
    }
   ],
   "source": [
    "#Apresente graficamente o histograma da nova coluna\n",
    "df = df.dropna(subset=['bmi_r'])\n",
    "plt.hist(df['bmi_r'])  \n",
    "plt.xlabel('bmi_r')  \n",
    "plt.ylabel('count')  \n",
    "plt.title('Histogram') \n",
    "plt.show()"
   ]
  },
  {
   "cell_type": "code",
   "execution_count": 30,
   "id": "1ad09f2e-f723-40c7-9a75-098cbedbc5a7",
   "metadata": {},
   "outputs": [
    {
     "name": "stdout",
     "output_type": "stream",
     "text": [
      "                         id     idade  hypertension  heart_disease  \\\n",
      "id                 1.000000  0.000792      0.002792      -0.006621   \n",
      "idade              0.000792  1.000000      0.271373       0.256829   \n",
      "hypertension       0.002792  0.271373      1.000000       0.109424   \n",
      "heart_disease     -0.006621  0.256829      0.109424       1.000000   \n",
      "avg_glucose_level  0.003305  0.238387      0.174318       0.165338   \n",
      "bmi                0.004705  0.333162      0.163534       0.039558   \n",
      "stroke             0.001933  0.236582      0.120360       0.125592   \n",
      "age_r              0.000792  1.000000      0.271373       0.256829   \n",
      "\n",
      "                   avg_glucose_level       bmi    stroke     age_r  \n",
      "id                          0.003305  0.004705  0.001933  0.000792  \n",
      "idade                       0.238387  0.333162  0.236582  1.000000  \n",
      "hypertension                0.174318  0.163534  0.120360  0.271373  \n",
      "heart_disease               0.165338  0.039558  0.125592  0.256829  \n",
      "avg_glucose_level           1.000000  0.167869  0.133576  0.238387  \n",
      "bmi                         0.167869  1.000000  0.038431  0.333162  \n",
      "stroke                      0.133576  0.038431  1.000000  0.236582  \n",
      "age_r                       0.238387  0.333162  0.236582  1.000000  \n"
     ]
    }
   ],
   "source": [
    "#Estatística Inferencial \n",
    "#Obtenha o coeficiente de correlação entre as diferentes colunas (features) numéricas do dataset\n",
    "df = df.dropna()\n",
    "df = df.select_dtypes(include=['float64', 'int64'])\n",
    "print(df.corr())  "
   ]
  },
  {
   "cell_type": "code",
   "execution_count": 31,
   "id": "c76a5dfc-99b5-4b4e-8547-aef21a44d88d",
   "metadata": {},
   "outputs": [
    {
     "data": {
      "image/png": "[encoded data removed]",
      "text/plain": [
       "<Figure size 640x480 with 1 Axes>"
      ]
     },
     "metadata": {},
     "output_type": "display_data"
    }
   ],
   "source": [
    "#Para as duas “features” mais fortemente correlacionadas produza o respetivo scatterplot\n",
    "sns.regplot(x=\"idade\", y=\"bmi\", data=df)  \n",
    "plt.ylim(0,)  \n",
    "plt.show()"
   ]
  },
  {
   "cell_type": "code",
   "execution_count": null,
   "id": "003454e5-dd20-41df-942c-3e9805e8750d",
   "metadata": {},
   "outputs": [],
   "source": [
    "#Ler o conteúdo do dataset\n",
    "df = pd.read_csv(\"./dataset.csv\")"
   ]
  },
  {
   "cell_type": "code",
   "execution_count": 33,
   "id": "a3fb63ca-cd47-4d1b-a7b0-fbf28b234c5d",
   "metadata": {},
   "outputs": [
    {
     "name": "stdout",
     "output_type": "stream",
     "text": [
      "gender  Female  Male  Other\n",
      "bmi                        \n",
      "10.3       0.0   NaN    NaN\n",
      "11.3       0.0   NaN    NaN\n",
      "11.5       NaN   0.0    NaN\n",
      "12.0       0.0   NaN    NaN\n",
      "12.3       0.0   NaN    NaN\n",
      "...        ...   ...    ...\n",
      "66.8       0.0   NaN    NaN\n",
      "71.9       NaN   0.0    NaN\n",
      "78.0       1.0   NaN    NaN\n",
      "92.0       NaN   1.0    NaN\n",
      "97.6       NaN   1.0    NaN\n",
      "\n",
      "[418 rows x 3 columns]\n"
     ]
    }
   ],
   "source": [
    "#Apresente uma \"pivot table\" considerando uma coluna (à escolha), respeitante a uma variável de escala, em função de duas colunas (à escolha), ambas respeitantes a variáveis categóricas\n",
    "df_new = df[['bmi', 'gender', 'hypertension']]\n",
    "grouped = df_new.groupby(['bmi', 'gender'], as_index=False).mean()\n",
    "grouped_pivot = grouped.pivot(index='bmi', columns='gender', values='hypertension')\n",
    "print(grouped_pivot)"
   ]
  },
  {
   "cell_type": "code",
   "execution_count": 34,
   "id": "41689cc9-ff93-475c-ad4b-c3f147a8ec9c",
   "metadata": {},
   "outputs": [
    {
     "name": "stderr",
     "output_type": "stream",
     "text": [
      "C:\\Users\\guigo\\AppData\\Local\\Temp\\ipykernel_5944\\1116163207.py:3: MatplotlibDeprecationWarning: Getting the array from a PolyQuadMesh will return the full array in the future (uncompressed). To get this behavior now set the PolyQuadMesh with a 2D array .set_array(data2d).\n",
      "  plt.colorbar()\n"
     ]
    },
    {
     "data": {
      "text/plain": [
       "<matplotlib.colorbar.Colorbar at 0x1952a612ae0>"
      ]
     },
     "execution_count": 34,
     "metadata": {},
     "output_type": "execute_result"
    },
    {
     "data": {
      "image/png": "[encoded data removed]",
      "text/plain": [
       "<Figure size 640x480 with 2 Axes>"
      ]
     },
     "metadata": {},
     "output_type": "display_data"
    }
   ],
   "source": [
    "#Apresente graficamente a \"pivot table\" da alínea anterior no formato de um \"heatmap\"\n",
    "plt.pcolor(grouped_pivot, cmap='RdBu')  \n",
    "plt.colorbar()  \n",
    "# plt.show() "
   ]
  },
  {
   "cell_type": "code",
   "execution_count": 35,
   "id": "f64c2a4e-9010-4b42-98ad-ebcb9bff9f09",
   "metadata": {},
   "outputs": [
    {
     "name": "stdout",
     "output_type": "stream",
     "text": [
      "      bmi  hypertension\n",
      "0    10.3           0.0\n",
      "1    11.3           0.0\n",
      "2    11.5           0.0\n",
      "3    12.0           0.0\n",
      "4    12.3           0.0\n",
      "..    ...           ...\n",
      "413  66.8           0.0\n",
      "414  71.9           0.0\n",
      "415  78.0           1.0\n",
      "416  92.0           1.0\n",
      "417  97.6           1.0\n",
      "\n",
      "[418 rows x 2 columns]\n"
     ]
    }
   ],
   "source": [
    "#Apresente a média da variável de escala anterior para cada grupo de uma das variáveis categóricas anteriores\n",
    "df_groups = df[['bmi','hypertension']]  \n",
    "grouped_by_mean = df_groups.groupby(['bmi'],as_index=False).mean()  \n",
    "print(grouped_by_mean)"
   ]
  },
  {
   "cell_type": "code",
   "execution_count": 36,
   "id": "d64bb750-a8c1-4ecb-849e-57b5ca213d07",
   "metadata": {},
   "outputs": [
    {
     "name": "stdout",
     "output_type": "stream",
     "text": [
      "ANOVA results: F =  3.36069373906378 , P =  0.0668304927237624\n"
     ]
    },
    {
     "name": "stderr",
     "output_type": "stream",
     "text": [
      "C:\\Users\\guigo\\AppData\\Local\\Temp\\ipykernel_5944\\3934568086.py:4: DeprecationWarning: Please import `f_oneway` from the `scipy.stats` namespace; the `scipy.stats.stats` namespace is deprecated and will be removed in SciPy 2.0.0.\n",
      "  f_val, p_val = stats.f_oneway(grouped.get_group('Male')['bmi'], grouped.get_group('Female')['bmi'])\n"
     ]
    }
   ],
   "source": [
    "#Realize o teste one-way ANOVA para os grupos de uma das variáveis categóricas anteriores, considerando a variável de escala anterior como variável dependente\n",
    "df_groups = df[['gender', 'bmi', 'hypertension']].dropna(subset=['gender', 'bmi'])\n",
    "grouped = df_groups.groupby('gender')\n",
    "f_val, p_val = stats.f_oneway(grouped.get_group('Male')['bmi'], grouped.get_group('Female')['bmi'])\n",
    "print(\"ANOVA results: F = \",f_val,\", P = \", p_val)"
   ]
  },
  {
   "cell_type": "code",
   "execution_count": null,
   "id": "27d81b73-d89d-480e-82d2-c2b8ff3fac32",
   "metadata": {},
   "outputs": [],
   "source": []
  }
 ],
 "metadata": {
  "kernelspec": {
   "display_name": "Python 3",
   "language": "python",
   "name": "python3"
  },
  "language_info": {
   "codemirror_mode": {
    "name": "ipython",
    "version": 3
   },
   "file_extension": ".py",
   "mimetype": "text/x-python",
   "name": "python",
   "nbconvert_exporter": "python",
   "pygments_lexer": "ipython3",
   "version": "3.12.0"
  }
 },
 "nbformat": 4,
 "nbformat_minor": 5
}
